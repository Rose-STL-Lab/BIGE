{
 "cells": [
  {
   "cell_type": "markdown",
   "id": "bbbedfb7",
   "metadata": {},
   "source": [
    "# Import Libraries"
   ]
  },
  {
   "cell_type": "code",
   "execution_count": null,
   "id": "611fdf8d",
   "metadata": {},
   "outputs": [],
   "source": [
    "import ezc3d\n",
    "import nimblephysics as nimble\n",
    "import numpy as np\n",
    "import os\n",
    "import pandas as pd\n",
    "from scipy.io import loadmat\n",
    "from tqdm import tqdm"
   ]
  },
  {
   "cell_type": "markdown",
   "id": "70c34ffc",
   "metadata": {},
   "source": [
    "# Load AddBiomechanics B3D Reference File"
   ]
  },
  {
   "cell_type": "code",
   "execution_count": 36,
   "id": "d24b2f4c",
   "metadata": {},
   "outputs": [],
   "source": [
    "# Load B3D file (AddBiomechanics Dataset)\n",
    "b3d_file = \"/home/mnt/Datasets/AddBiomechanics/test/With_Arm/Uhlrich2023_Formatted_With_Arm/subject2/subject2.b3d\"\n",
    "b3d_data = nimble.biomechanics.SubjectOnDisk(b3d_file)\n",
    "b3d_frame = b3d_data.readFrames(0, 1)[0]\n",
    "b3d_labels = [name for name, _ in b3d_frame.markerObservations]\n",
    "b3d_points = np.array([obs[1] for obs in b3d_frame.markerObservations])"
   ]
  },
  {
   "cell_type": "markdown",
   "id": "1df3cff9",
   "metadata": {},
   "source": [
    "# Load 183 Subject MAT file"
   ]
  },
  {
   "cell_type": "code",
   "execution_count": 38,
   "id": "66c7dc3f",
   "metadata": {},
   "outputs": [],
   "source": [
    "# Select subject and trial\n",
    "ppid = \"38\"\n",
    "trial_idx = 0\n",
    "\n",
    "# Load joint centers for trial\n",
    "jc_file = f\"/home/mnt/Datasets/183_subjects/Kinematic_Data/{ppid}/JC_{ppid}.mat\"\n",
    "jc_data = loadmat(jc_file)\n",
    "jc_vars = [k for k in jc_data.keys() if not k.startswith('__') and k != 'FILE_NAME']\n",
    "for var in jc_vars:\n",
    "    joint_center = jc_data[var][trial_idx]  # shape: (n_frames, 3)\n",
    "\n",
    "# Load joint angles\n",
    "ja_file = f\"/home/mnt/Datasets/183_subjects/Kinematic_Data/{ppid}/JA_{ppid}.mat\"\n",
    "ja_data = loadmat(ja_file)\n",
    "ja_vars = [k for k in ja_data.keys() if not k.startswith('__') and k != 'FILE_NAME']\n",
    "for var in ja_vars:\n",
    "    joint_angle = ja_data[var][trial_idx]  # shape: (n_frames, 3)\n",
    "\n",
    "# Get trial file names\n",
    "file_names = [str(f[0]) for f in jc_data['FILE_NAME'].squeeze()]\n",
    "\n",
    "# Load subject info from Excel\n",
    "info_file = \"/home/mnt/Datasets/183_subjects/Participants Info/Subject Log.xlsx\"\n",
    "info_df = pd.read_excel(info_file)\n",
    "subject_row = info_df[info_df['Subject ID'].astype(str) == str(ppid)]\n",
    "gender = subject_row.iloc[0]['Gender']\n",
    "age = subject_row.iloc[0]['Age']\n",
    "height = subject_row.iloc[0]['Height (cm)']\n",
    "mass = subject_row.iloc[0]['Mass (kg)']"
   ]
  },
  {
   "cell_type": "code",
   "execution_count": null,
   "id": "fc0b050f",
   "metadata": {},
   "outputs": [
    {
     "name": "stdout",
     "output_type": "stream",
     "text": [
      "Subject 38: Gender=Male, Age=24.6, Height=195.58, Mass=104.3\n"
     ]
    }
   ],
   "source": [
    "\n",
    "# Load joint angles\n",
    "ja_file = f\"/home/mnt/Datasets/183_subjects/Kinematic_Data/{ppid}/JA_{ppid}.mat\"\n",
    "ja_data = loadmat(ja_file)\n",
    "ja_vars = [k for k in ja_data.keys() if not k.startswith('__') and k != 'FILE_NAME']\n",
    "for var in ja_vars:\n",
    "    joint_angle = ja_data[var][trial_idx]  # shape: (n_frames, 3)\n",
    "\n"
   ]
  },
  {
   "cell_type": "code",
   "execution_count": 34,
   "id": "6ca5bda7",
   "metadata": {},
   "outputs": [
    {
     "name": "stdout",
     "output_type": "stream",
     "text": [
      "Index(['Subject ID', 'Gender', 'Age', 'Height (cm)', 'Mass (kg)', 'Level',\n",
      "       'Sport', 'Have you had any Injuries in the past 10 years?',\n",
      "       'How many Injuries have you had?', 'Injury 1', 'Injury 2', 'Injury 3',\n",
      "       'Injury 4', 'Injury 5'],\n",
      "      dtype='object')\n"
     ]
    }
   ],
   "source": [
    "print(info_df.columns)"
   ]
  },
  {
   "cell_type": "code",
   "execution_count": 26,
   "id": "3cb053c6",
   "metadata": {},
   "outputs": [
    {
     "name": "stdout",
     "output_type": "stream",
     "text": [
      "joint_centers_list shape: (36, 1)\n",
      "joint_centers shape: (1, 36)\n"
     ]
    }
   ],
   "source": [
    "print(\"joint_centers_list shape:\", np.array(joint_centers_list).shape)\n",
    "print(\"joint_centers shape:\", joint_centers.shape)"
   ]
  },
  {
   "cell_type": "code",
   "execution_count": 21,
   "id": "aad3e05c",
   "metadata": {},
   "outputs": [
    {
     "name": "stdout",
     "output_type": "stream",
     "text": [
      "Trial dir: ['__class__', '__delattr__', '__dir__', '__doc__', '__eq__', '__format__', '__ge__', '__getattribute__', '__gt__', '__hash__', '__init__', '__init_subclass__', '__le__', '__lt__', '__module__', '__ne__', '__new__', '__reduce__', '__reduce_ex__', '__repr__', '__setattr__', '__sizeof__', '__str__', '__subclasshook__', 'addPass', 'getBasicTrialType', 'getDetectedTrialFeatures', 'getForcePlates', 'getHasManualGRFAnnotation', 'getMarkerObservations', 'getMissingGRFReason', 'getName', 'getOriginalTrialEndFrame', 'getOriginalTrialEndTime', 'getOriginalTrialName', 'getOriginalTrialStartFrame', 'getOriginalTrialStartTime', 'getPasses', 'getSplitIndex', 'getTimestep', 'getTrialLength', 'setAccObservations', 'setBasicTrialType', 'setCustomValues', 'setDetectedTrialFeatures', 'setEmgObservations', 'setExoTorques', 'setForcePlates', 'setGyroObservations', 'setHasManualGRFAnnotation', 'setMarkerNamesGuessed', 'setMarkerObservations', 'setMissingGRFReason', 'setName', 'setOriginalTrialEndFrame', 'setOriginalTrialEndTime', 'setOriginalTrialName', 'setOriginalTrialStartFrame', 'setOriginalTrialStartTime', 'setSplitIndex', 'setTimestep', 'setTrialLength', 'setTrialTags']\n"
     ]
    }
   ],
   "source": [
    "print(\"Trial dir:\", dir(trial))"
   ]
  },
  {
   "cell_type": "code",
   "execution_count": 18,
   "id": "9ca7bdf9",
   "metadata": {},
   "outputs": [
    {
     "name": "stdout",
     "output_type": "stream",
     "text": [
      "Header type: <class 'nimblephysics_libs._nimblephysics.biomechanics.SubjectOnDiskHeader'>\n",
      "Header dir: ['__class__', '__delattr__', '__dir__', '__doc__', '__eq__', '__format__', '__ge__', '__getattribute__', '__gt__', '__hash__', '__init__', '__init_subclass__', '__le__', '__lt__', '__module__', '__ne__', '__new__', '__reduce__', '__reduce_ex__', '__repr__', '__setattr__', '__sizeof__', '__slotnames__', '__str__', '__subclasshook__', 'addProcessingPass', 'addTrial', 'filterTrials', 'getProcessingPasses', 'getQuality', 'getTrials', 'recomputeColumnNames', 'setAgeYears', 'setBiologicalSex', 'setCustomValueNames', 'setGroundForceBodies', 'setHeightM', 'setHref', 'setMassKg', 'setNotes', 'setNumDofs', 'setNumJoints', 'setQuality', 'setSubjectTags', 'setTrials', 'trimToProcessingPasses']\n"
     ]
    }
   ],
   "source": [
    "print(\"Header type:\", type(header))\n",
    "print(\"Header dir:\", dir(header))"
   ]
  },
  {
   "cell_type": "code",
   "execution_count": 3,
   "id": "79a0594f",
   "metadata": {},
   "outputs": [
    {
     "name": "stdout",
     "output_type": "stream",
     "text": [
      "65 C3D Markers: ['FHEA', 'BHEA', 'RHEA', 'LHEA', 'T2', 'T8', 'RCLA', 'LCLA', 'STER', 'RSCA', 'RSHO', 'RBIC', 'RLAT', 'RMED', 'RFOR', 'LSHO', 'LBIC', 'LLAT', 'LMED', 'LFOR', 'RASI', 'LASI', 'RPSI', 'LPSI', 'RTRO', 'RTHI', 'RSHA', 'RHEE', 'RTOE', 'LTRO', 'LTHI', 'LHEE', 'LTOE', 'VHEA', 'VCRO', 'VRSH', 'VREL', 'VRFO', 'VRWR', 'VLSH', 'VLEL', 'VLFO', 'VLWR', 'VCLA', 'VNEC', 'VLLU', 'VRNI', 'VLNI', 'VFPE', 'VBPE', 'VVER', 'VLAT', 'VPEL', 'VRCH', 'VLCH', 'VRHI', 'VRKN', 'VRAN', 'VLHI', 'VLKN', 'VLAN', 'VORI', 'VNEG', 'VPOS', 'VFAK']\n"
     ]
    }
   ],
   "source": [
    "# Load C3D file (183 Subjects Dataset)\n",
    "c3d_file_path = \"/home/mnt/Datasets/183_subjects/Kinematic_Data/743/Generated_C3D_files/0743_drop jump_01.c3d\"\n",
    "c3d_data = ezc3d.c3d(c3d_file_path)\n",
    "c3d_frame = c3d_data['data']['points'][:, :, 0]\n",
    "c3d_labels = c3d_data['parameters']['POINT']['LABELS']['value']\n",
    "\n",
    "# Keep only the physical markers (first occuring)\n",
    "seen = set()\n",
    "unique_labels = []\n",
    "unique_points = []\n",
    "for label, point in zip(c3d_labels, c3d_frame.T):\n",
    "    if label not in seen:\n",
    "        unique_labels.append(label)\n",
    "        unique_points.append(point)\n",
    "        seen.add(label)\n",
    "c3d_labels = unique_labels\n",
    "c3d_points = np.array(unique_points)\n",
    "\n",
    "# Print the labels:\n",
    "print(f\"{len(c3d_labels)} C3D Markers: {c3d_labels}\")"
   ]
  },
  {
   "cell_type": "code",
   "execution_count": null,
   "id": "271504c4",
   "metadata": {},
   "outputs": [
    {
     "name": "stdout",
     "output_type": "stream",
     "text": [
      "51 B3D Markers: ['C7', 'L.ASIS', 'L.PSIS', 'L_5meta', 'L_HJC', 'L_HJC_reg', 'L_Shoulder', 'L_Sternum', 'L_ankle', 'L_calc', 'L_elbow_lat', 'L_elbow_med', 'L_forearm', 'L_humerus', 'L_knee', 'L_sh2', 'L_sh3', 'L_shank_antsup', 'L_thigh1', 'L_thigh2', 'L_thigh3', 'L_thigh4', 'L_toe', 'L_wrist_radius', 'L_wrist_ulna', 'R_HJC', 'R_HJC_reg', 'R_Shoulder', 'R_Sternum', 'R_elbow_lat', 'R_elbow_med', 'R_forearm', 'R_humerus', 'R_wrist_radius', 'R_wrist_ulna', 'r.ASIS', 'r.PSIS', 'r_5meta', 'r_ankle', 'r_calc', 'r_knee', 'r_sh2', 'r_sh3', 'r_sh4', 'r_shank_antsup', 'r_thigh1', 'r_thigh2', 'r_thigh3', 'r_thigh4', 'r_thigh5', 'r_toe']\n",
      "64 C3D Markers: ['FHEA', 'BHEA', 'RHEA', 'LHEA', 'T2', 'T8', 'RCLA', 'LCLA', 'STER', 'RSCA', 'RSHO', 'RBIC', 'RLAT', 'RMED', 'RFOR', 'LSHO', 'LBIC', 'LLAT', 'LMED', 'LFOR', 'RASI', 'LASI', 'RPSI', 'LPSI', 'RTRO', 'RTHI', 'RSHA', 'RHEE', 'RTOE', 'LTRO', 'LTHI', 'LHEE', 'LTOE', 'VHEA', 'VCRO', 'VRSH', 'VREL', 'VRFO', 'VRWR', 'VLSH', 'VLEL', 'VLFO', 'VLWR', 'VCLA', 'VNEC', 'VLLU', 'VRNI', 'VLNI', 'VFPE', 'VBPE', 'VVER', 'VLAT', 'VPEL', 'VRCH', 'VLCH', 'VRHI', 'VRKN', 'VRAN', 'VLHI', 'VLKN', 'VLAN', 'VORI', 'VNEG', 'VPOS']\n",
      "No duplicates in B3D markers.\n"
     ]
    }
   ],
   "source": [
    "\n",
    "\n",
    "\n",
    "if len(c3d_labels) == len(set(c3d_labels)):\n",
    "    print(\"No duplicates in B3D markers.\")\n",
    "else:\n",
    "    print(\"Duplicates found in B3D markers!\")"
   ]
  },
  {
   "cell_type": "code",
   "execution_count": null,
   "id": "be32ab91",
   "metadata": {},
   "outputs": [
    {
     "name": "stdout",
     "output_type": "stream",
     "text": [
      "51 B3D Markers: ['C7', 'L.ASIS', 'L.PSIS', 'L_5meta', 'L_HJC', 'L_HJC_reg', 'L_Shoulder', 'L_Sternum', 'L_ankle', 'L_calc', 'L_elbow_lat', 'L_elbow_med', 'L_forearm', 'L_humerus', 'L_knee', 'L_sh2', 'L_sh3', 'L_shank_antsup', 'L_thigh1', 'L_thigh2', 'L_thigh3', 'L_thigh4', 'L_toe', 'L_wrist_radius', 'L_wrist_ulna', 'R_HJC', 'R_HJC_reg', 'R_Shoulder', 'R_Sternum', 'R_elbow_lat', 'R_elbow_med', 'R_forearm', 'R_humerus', 'R_wrist_radius', 'R_wrist_ulna', 'r.ASIS', 'r.PSIS', 'r_5meta', 'r_ankle', 'r_calc', 'r_knee', 'r_sh2', 'r_sh3', 'r_sh4', 'r_shank_antsup', 'r_thigh1', 'r_thigh2', 'r_thigh3', 'r_thigh4', 'r_thigh5', 'r_toe']\n",
      "64 C3D Markers: ['FHEA', 'BHEA', 'RHEA', 'LHEA', 'T2', 'T8', 'RCLA', 'LCLA', 'STER', 'RSCA', 'RSHO', 'RBIC', 'RLAT', 'RMED', 'RFOR', 'LSHO', 'LBIC', 'LLAT', 'LMED', 'LFOR', 'RASI', 'LASI', 'RPSI', 'LPSI', 'RTRO', 'RTHI', 'RSHA', 'RHEE', 'RTOE', 'LTRO', 'LTHI', 'LHEE', 'LTOE', 'VHEA', 'VCRO', 'VRSH', 'VREL', 'VRFO', 'VRWR', 'VLSH', 'VLEL', 'VLFO', 'VLWR', 'VCLA', 'VNEC', 'VLLU', 'VRNI', 'VLNI', 'VFPE', 'VBPE', 'VVER', 'VLAT', 'VPEL', 'VRCH', 'VLCH', 'VRHI', 'VRKN', 'VRAN', 'VLHI', 'VLKN', 'VLAN', 'VORI', 'VNEG', 'VPOS']\n",
      "No duplicates in B3D markers.\n"
     ]
    }
   ],
   "source": [
    "\n",
    "\n",
    "\n",
    "if len(c3d_labels) == len(set(c3d_labels)):\n",
    "    print(\"No duplicates in B3D markers.\")\n",
    "else:\n",
    "    print(\"Duplicates found in B3D markers!\")"
   ]
  },
  {
   "cell_type": "code",
   "execution_count": 6,
   "id": "41a44a0c",
   "metadata": {},
   "outputs": [
    {
     "name": "stdout",
     "output_type": "stream",
     "text": [
      "Marker 'RLAT' occurs 4 times. All values equal? False\n",
      "  Values: [array([-200.7660675 ,  540.90460205,  787.90808105,    1.        ]), array([-30.06690979, 483.97970581, 556.59350586,   1.        ]), array([312.26715088, 563.77996826, 542.84484863,   1.        ]), array([195.46452332, 550.69549561, 118.665802  ,   1.        ])]\n",
      "Marker 'RMED' occurs 4 times. All values equal? False\n",
      "  Values: [array([-188.98109436,  627.16162109,  764.0513916 ,    1.        ]), array([-90.73155212, 429.30871582, 554.74591064,   1.        ]), array([317.36831665, 688.58258057, 517.13238525,   1.        ]), array([205.32467651, 677.72015381, 121.45571899,   1.        ])]\n",
      "Marker 'LLAT' occurs 4 times. All values equal? False\n",
      "  Values: [array([-1.40114777e+02,  1.11120190e+03,  7.39015381e+02,  1.00000000e+00]), array([-4.74912977e+00,  1.07732007e+03,  4.99171112e+02,  1.00000000e+00]), array([-201.57388306,  901.1975708 ,   27.91419029,    1.        ]), array([-646.79638672,  942.72729492,   37.4344902 ,    1.        ])]\n",
      "Marker 'LMED' occurs 4 times. All values equal? False\n",
      "  Values: [array([-1.67589081e+02,  1.02334100e+03,  7.37971924e+02,  1.00000000e+00]), array([-5.80149994e+01,  1.14064746e+03,  4.87325043e+02,  1.00000000e+00]), array([-214.84277344,  769.68585205,   46.62060928,    1.        ]), array([-633.91571045,  825.12939453,   83.59573364,    1.        ])]\n",
      "Marker 'VHEA' occurs 2 times. All values equal? False\n",
      "  Values: [array([7.62794018e+00, 8.48034485e+02, 1.30292151e+03, 1.00000000e+00]), array([-1.04183762e+02,  8.35863525e+02,  1.02305396e+03,  1.00000000e+00])]\n",
      "Marker 'VRSH' occurs 2 times. All values equal? False\n",
      "  Values: [array([-1.03363007e+02,  6.15681763e+02,  1.08713977e+03,  1.00000000e+00]), array([nan, nan, nan,  1.])]\n",
      "Marker 'VREL' occurs 2 times. All values equal? False\n",
      "  Values: [array([-194.87358093,  584.03308105,  775.97973633,    1.        ]), array([nan, nan, nan,  1.])]\n",
      "Marker 'VRFO' occurs 2 times. All values equal? False\n",
      "  Values: [array([nan, nan, nan,  1.]), array([223.60345459, 617.50244141,  78.25145721,   1.        ])]\n",
      "Marker 'VLSH' occurs 2 times. All values equal? False\n",
      "  Values: [array([-1.07044586e+02,  1.05202600e+03,  1.07531641e+03,  1.00000000e+00]), array([nan, nan, nan,  1.])]\n",
      "Marker 'VLEL' occurs 2 times. All values equal? False\n",
      "  Values: [array([-1.53851929e+02,  1.06727148e+03,  7.38493652e+02,  1.00000000e+00]), array([nan, nan, nan,  1.])]\n",
      "Marker 'VLFO' occurs 2 times. All values equal? True\n",
      "Marker 'VRNI' occurs 2 times. All values equal? False\n",
      "  Values: [array([ -8.90125465, 800.70568848, 996.8046875 ,   1.        ]), array([-8.38958206e+01,  7.95928833e+02,  1.02281836e+03,  1.00000000e+00])]\n",
      "Marker 'VLNI' occurs 2 times. All values equal? False\n",
      "  Values: [array([-14.49988461, 880.01446533, 995.22790527,   1.        ]), array([ 60.4946785 , 884.79138184, 969.2142334 ,   1.        ])]\n",
      "Marker 'VRCH' occurs 2 times. All values equal? False\n",
      "  Values: [array([-236.79881287,  738.83789062,  628.43273926,    1.        ]), array([-251.15791321,  737.90777588,  633.61437988,    1.        ])]\n",
      "Marker 'VLCH' occurs 2 times. All values equal? False\n",
      "  Values: [array([-245.12690735,  814.25054932,  618.8916626 ,    1.        ]), array([-259.48599243,  813.32043457,  624.07330322,    1.        ])]\n",
      "Marker 'VORI' occurs 2 times. All values equal? True\n",
      "Marker 'VNEG' occurs 3 times. All values equal? True\n"
     ]
    }
   ],
   "source": [
    "from collections import defaultdict\n",
    "\n",
    "# Get marker labels and first frame points\n",
    "c3d_labels = list(c3d_data['parameters']['POINT']['LABELS']['value'])\n",
    "c3d_frame = c3d_data['data']['points'][:, :, 0].T  # shape: (n_markers, 3)\n",
    "\n",
    "# Find duplicates and compare their values\n",
    "duplicates = defaultdict(list)\n",
    "for idx, label in enumerate(c3d_labels):\n",
    "    duplicates[label].append(idx)\n",
    "\n",
    "for label, idxs in duplicates.items():\n",
    "    if len(idxs) > 1:\n",
    "        values = [c3d_frame[i] for i in idxs]\n",
    "        all_equal = all(np.allclose(values[0], v, equal_nan=True) for v in values[1:])\n",
    "        print(f\"Marker '{label}' occurs {len(idxs)} times. All values equal? {all_equal}\")\n",
    "        if not all_equal:\n",
    "            print(f\"  Values: {values}\")"
   ]
  },
  {
   "cell_type": "code",
   "execution_count": 4,
   "id": "a396c009",
   "metadata": {},
   "outputs": [
    {
     "name": "stdout",
     "output_type": "stream",
     "text": [
      "Available biomechanics classes: ['Anthropometrics', 'BasicTrialType', 'BatchGaitInverseDynamics', 'Beam', 'BilevelFitResult', 'C3D', 'C3DLoader', 'ContactRegimeSection', 'CortexStreaming', 'DataQuality', 'DetectedTrialFeature', 'DynamicsFitProblemConfig', 'DynamicsFitter', 'DynamicsInitialization', 'ForcePlate', 'Frame', 'FrameList', 'FramePass', 'FramePassList', 'IKErrorReport', 'IMUFineTuneProblem', 'InitialMarkerFitParams', 'LabelledMarkers', 'LilypadSolver', 'LinkBeam', 'LinkBeamSearch', 'MarkerBeamSearch', 'MarkerFitter', 'MarkerFitterState', 'MarkerFixer', 'MarkerInitialization', 'MarkerLabeller', 'MarkerLabellerMock', 'MarkerMultiBeamSearch', 'MarkerTrace', 'MarkersErrorReport', 'MissingGRFReason', 'MissingGRFStatus', 'MultiBeam', 'NeuralMarkerLabeller', 'OpenSimFile', 'OpenSimMocoTrajectory', 'OpenSimMot', 'OpenSimParser', 'OpenSimScaleAndMarkerOffsets', 'OpenSimTRC', 'ProcessingPassType', 'ResidualForceHelper', 'SkeletonConverter', 'StreamingIK', 'StreamingMarkerTraces', 'StreamingMocapLab', 'SubjectOnDisk', 'SubjectOnDiskHeader', 'SubjectOnDiskPassHeader', 'SubjectOnDiskTrial', 'SubjectOnDiskTrialPass', 'TraceHead', 'copOutsideConvexFootError', 'extendedToNearestPeakForce', 'footContactDetectedButNoForce', 'forceDiscrepancy', 'hasInputOutliers', 'hasNoForcePlateData', 'interpolatedClippedGRF', 'manualReview', 'measuredGrfZeroWhenAccelerationNonZero', 'missingBlip', 'missingImpact', 'no', 'notMissingGRF', 'notOverForcePlate', 'shiftGRF', 'tooHighMarkerRMS', 'torqueDiscrepancy', 'unknown', 'unmeasuredExternalForceDetected', 'velocitiesStillTooHighAfterFiltering', 'yes', 'zeroForceFrame']\n"
     ]
    }
   ],
   "source": [
    "print(\"Available biomechanics classes:\", [x for x in dir(nimble.biomechanics) if not x.startswith('_')])"
   ]
  },
  {
   "cell_type": "code",
   "execution_count": 5,
   "id": "1da9d51b",
   "metadata": {},
   "outputs": [],
   "source": [
    "marker_map = {\n",
    "    # Head markers\n",
    "    'FHEA': None,  # Front head - no direct equivalent in B3D\n",
    "    'BHEA': None,  # Back head - no direct equivalent\n",
    "    'RHEA': None,  # Right head - no direct equivalent\n",
    "    'LHEA': None,  # Left head - no direct equivalent\n",
    "    'VHEA': None,  # Virtual head - no direct equivalent\n",
    "    \n",
    "    # Trunk markers\n",
    "    'T2': 'C7',  # T2 vertebra is close to C7 anatomically\n",
    "    'T8': None,  # No direct equivalent in B3D\n",
    "    'STER': 'R_Sternum',  # Sternum\n",
    "    'LCLA': 'L_Sternum',  # Left clavicle\n",
    "    'RCLA': 'R_Sternum',  # Right clavicle\n",
    "    'RSCA': 'R_Shoulder',  # Right scapula\n",
    "    'VNEC': None,  # Virtual neck - no direct equivalent\n",
    "    \n",
    "    # Arm markers\n",
    "    'RSHO': 'R_Shoulder',  # Right shoulder\n",
    "    'RBIC': 'R_humerus',  # Right biceps\n",
    "    'RMED': 'R_elbow_med',  # Right medial elbow\n",
    "    'RLAT': 'R_elbow_lat',  # Right lateral elbow\n",
    "    'RFOR': 'R_forearm',  # Right forearm\n",
    "    'LSHO': 'L_Shoulder',  # Left shoulder\n",
    "    'LBIC': 'L_humerus',  # Left biceps\n",
    "    'LMED': 'L_elbow_med',  # Left medial elbow\n",
    "    'LLAT': 'L_elbow_lat',  # Left lateral elbow\n",
    "    'LFOR': 'L_forearm',  # Left forearm\n",
    "    'VRWR': 'R_wrist_radius',  # Virtual right wrist\n",
    "    'VLWR': 'L_wrist_ulna',  # Virtual left wrist\n",
    "    \n",
    "    # Pelvis markers\n",
    "    'RASI': 'r.ASIS',  # Right ASIS\n",
    "    'LASI': 'L.ASIS',  # Left ASIS\n",
    "    'RPSI': 'r.PSIS',  # Right PSIS\n",
    "    'LPSI': 'L.PSIS',  # Left PSIS\n",
    "    'VPEL': None,  # Virtual pelvis - no direct equivalent\n",
    "    \n",
    "    # Right leg markers\n",
    "    'RTRO': 'r_thigh1',  # Right trochanter\n",
    "    'RTHI': 'r_thigh2',  # Right thigh\n",
    "    'RSHA': 'r_shank_antsup',  # Right shank\n",
    "    'RHEE': 'r_calc',  # Right heel\n",
    "    'RTOE': 'r_toe',  # Right toe\n",
    "    'VRKN': 'r_knee',  # Virtual right knee\n",
    "    \n",
    "    # Left leg markers\n",
    "    'LTRO': 'L_thigh1',  # Left trochanter\n",
    "    'LTHI': 'L_thigh2',  # Left thigh\n",
    "    'LSHA': 'L_shank_antsup',  # Left shank\n",
    "    'LHEE': 'L_calc',  # Left heel\n",
    "    'LTOE': 'L_toe',  # Left toe\n",
    "    'VLKN': 'L_knee',  # Virtual left knee\n",
    "}"
   ]
  },
  {
   "cell_type": "code",
   "execution_count": 6,
   "id": "1487d375",
   "metadata": {},
   "outputs": [],
   "source": [
    "def similarity_transform(A, B):\n",
    "    centroid_A = np.mean(A, axis=0)\n",
    "    centroid_B = np.mean(B, axis=0)\n",
    "    AA = A - centroid_A\n",
    "    BB = B - centroid_B\n",
    "    var_A = np.sum(AA ** 2)\n",
    "    scale = np.sum(BB * AA) / var_A\n",
    "    H = AA.T @ BB\n",
    "    U, S, Vt = np.linalg.svd(H)\n",
    "    R_mat = Vt.T @ U.T\n",
    "    if np.linalg.det(R_mat) < 0:\n",
    "        Vt[-1, :] *= -1\n",
    "        R_mat = Vt.T @ U.T\n",
    "    t = centroid_B - scale * R_mat @ centroid_A\n",
    "    return scale, R_mat, t"
   ]
  },
  {
   "cell_type": "code",
   "execution_count": 7,
   "id": "3e80727d",
   "metadata": {},
   "outputs": [
    {
     "name": "stdout",
     "output_type": "stream",
     "text": [
      "B3D markers used: ['C7', 'R_Sternum', 'L_Sternum', 'R_Sternum', 'R_Shoulder', 'R_Shoulder', 'R_humerus', 'R_elbow_med', 'R_elbow_lat', 'R_forearm', 'L_Shoulder', 'L_humerus', 'L_elbow_med', 'L_elbow_lat', 'L_forearm', 'R_wrist_radius', 'L_wrist_ulna', 'r.ASIS', 'L.ASIS', 'r.PSIS', 'L.PSIS', 'r_thigh1', 'r_thigh2', 'r_shank_antsup', 'r_calc', 'r_toe', 'r_knee', 'L_thigh1', 'L_thigh2', 'L_calc', 'L_toe', 'L_knee']\n",
      "C3D markers used: ['T2', 'STER', 'LCLA', 'RCLA', 'RSCA', 'RSHO', 'RBIC', 'RMED', 'RLAT', 'RFOR', 'LSHO', 'LBIC', 'LMED', 'LLAT', 'LFOR', 'VRWR', 'VLWR', 'RASI', 'LASI', 'RPSI', 'LPSI', 'RTRO', 'RTHI', 'RSHA', 'RHEE', 'RTOE', 'VRKN', 'LTRO', 'LTHI', 'LHEE', 'LTOE', 'VLKN']\n",
      "B3D points shape: (32, 3)\n",
      "C3D points shape: (32, 3)\n"
     ]
    }
   ],
   "source": [
    "# ...existing code...\n",
    "\n",
    "# Build C3D label to index mapping\n",
    "c3d_label_to_idx = {label: i for i, label in enumerate(c3d_markers)}\n",
    "\n",
    "b3d_pts = []\n",
    "c3d_pts = []\n",
    "used_b3d_names = []\n",
    "used_c3d_names = []\n",
    "\n",
    "for c3d_marker, b3d_marker in marker_map.items():\n",
    "    if b3d_marker and b3d_marker in b3d_markers and c3d_marker in c3d_label_to_idx:\n",
    "        c3d_idx = c3d_label_to_idx[c3d_marker]\n",
    "        b3d_idx = b3d_markers.index(b3d_marker)\n",
    "        # Defensive: check bounds\n",
    "        if c3d_idx < c3d_points.shape[0]:\n",
    "            c3d_pts.append(c3d_points[c3d_idx])\n",
    "            b3d_pts.append(frame.markerObservations[b3d_idx][1])\n",
    "            used_c3d_names.append(c3d_marker)\n",
    "            used_b3d_names.append(b3d_marker)\n",
    "\n",
    "b3d_pts = np.array(b3d_pts)\n",
    "c3d_pts = np.array(c3d_pts)\n",
    "\n",
    "print(\"B3D markers used:\", used_b3d_names)\n",
    "print(\"C3D markers used:\", used_c3d_names)\n",
    "print(\"B3D points shape:\", b3d_pts.shape)\n",
    "print(\"C3D points shape:\", c3d_pts.shape)\n",
    "# ...existing code..."
   ]
  },
  {
   "cell_type": "code",
   "execution_count": 8,
   "id": "8d4487b8",
   "metadata": {},
   "outputs": [
    {
     "name": "stdout",
     "output_type": "stream",
     "text": [
      "Any NaNs in c3d_pts? True\n",
      "Any NaNs in b3d_pts? False\n",
      "c3d_pts shape: (32, 3)\n",
      "b3d_pts shape: (32, 3)\n",
      "Valid pairs: 28\n",
      "Total pairs: 90\n",
      "Scale: 0.5372631736370475\n",
      "Rotation:\n",
      " [[ 0.59097651 -0.43563789  0.67894506]\n",
      " [ 0.35557516  0.89614574  0.26549788]\n",
      " [-0.72409466  0.08451298  0.68450309]]\n",
      "Translation: [-0.61752315  0.33797044 -0.28958951]\n"
     ]
    }
   ],
   "source": [
    "# ...existing code...\n",
    "\n",
    "print(\"Any NaNs in c3d_pts?\", np.isnan(c3d_pts).any())\n",
    "print(\"Any NaNs in b3d_pts?\", np.isnan(b3d_pts).any())\n",
    "print(\"c3d_pts shape:\", c3d_pts.shape)\n",
    "print(\"b3d_pts shape:\", b3d_pts.shape)\n",
    "\n",
    "# Remove any pairs where either point is NaN\n",
    "valid = ~np.isnan(c3d_pts).any(axis=1) & ~np.isnan(b3d_pts).any(axis=1)\n",
    "c3d_pts_valid = c3d_pts[valid]\n",
    "b3d_pts_valid = b3d_pts[valid]\n",
    "\n",
    "print(\"Valid pairs:\", c3d_pts_valid.shape[0])\n",
    "print(\"Total pairs:\", c3d_points.shape[0])\n",
    "\n",
    "scale, R, t = similarity_transform(c3d_pts_valid, b3d_pts_valid)\n",
    "print(\"Scale:\", scale)\n",
    "print(\"Rotation:\\n\", R)\n",
    "print(\"Translation:\", t)\n",
    "# ...existing code..."
   ]
  },
  {
   "cell_type": "code",
   "execution_count": null,
   "id": "fb382609",
   "metadata": {},
   "outputs": [
    {
     "name": "stdout",
     "output_type": "stream",
     "text": [
      "RajagopalHumanBodyModel methods: ['__class__', '__delattr__', '__dir__', '__doc__', '__eq__', '__format__', '__ge__', '__getattribute__', '__gt__', '__hash__', '__init__', '__init_subclass__', '__le__', '__lt__', '__module__', '__ne__', '__new__', '__reduce__', '__reduce_ex__', '__repr__', '__setattr__', '__sizeof__', '__str__', '__subclasshook__', 'anatomicalMarkers', 'bodyScales', 'ignoredBodies', 'jointsDrivenBy', 'markersMap', 'meshMap', 'meshScaleMap', 'skeleton', 'trackingMarkers', 'warnings']\n"
     ]
    }
   ],
   "source": [
    "# ...existing code...\n",
    "\n",
    "human_model = nimble.RajagopalHumanBodyModel()\n",
    "print(\"RajagopalHumanBodyModel methods:\", dir(human_model))\n",
    "# ...existing code..."
   ]
  }
 ],
 "metadata": {
  "kernelspec": {
   "display_name": "BIGE",
   "language": "python",
   "name": "python3"
  },
  "language_info": {
   "codemirror_mode": {
    "name": "ipython",
    "version": 3
   },
   "file_extension": ".py",
   "mimetype": "text/x-python",
   "name": "python",
   "nbconvert_exporter": "python",
   "pygments_lexer": "ipython3",
   "version": "3.9.23"
  }
 },
 "nbformat": 4,
 "nbformat_minor": 5
}
